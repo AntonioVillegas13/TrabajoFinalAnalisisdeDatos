{
 "cells": [
  {
   "cell_type": "code",
   "execution_count": 1,
   "metadata": {
    "colab": {
     "autoexec": {
      "startup": false,
      "wait_interval": 0
     }
    },
    "colab_type": "code",
    "collapsed": false,
    "id": "xILzsBEsKl-R",
    "jupyter": {
     "outputs_hidden": false
    }
   },
   "outputs": [],
   "source": [
    "import json\n",
    "import pandas as pd\n",
    "import csv\n",
    "from pymongo import MongoClient\n",
    "import pyodbc\n",
    "import pymssql "
   ]
  },
  {
   "cell_type": "code",
   "execution_count": 58,
   "metadata": {
    "collapsed": false,
    "jupyter": {
     "outputs_hidden": false
    }
   },
   "outputs": [
    {
     "name": "stdout",
     "output_type": "stream",
     "text": [
      "Conexion exitosa\n",
      "Proceso realizado con éxito\n"
     ]
    }
   ],
   "source": [
    "try:\n",
    "    client = MongoClient('mongodb://localhost:27017')\n",
    "    client.server_info()\n",
    "    print(\"Conexion exitosa\")\n",
    "    client.close\n",
    "except pymongo.errors.ServerSelectionTimeoutError as errorTiempo:\n",
    "    print(\"Conexión rechazada\")\n",
    "dbc=client['location_pasto']\n",
    "colect=dbc['aborto']\n",
    "\n",
    "tweets = []\n",
    "users = {}\n",
    "cols_tweet = ['id', 'created_at', 'favorite_count', 'retweet_count', 'text', 'place', 'favorited', 'retweeted']\n",
    "cols_user = [\n",
    "             'screen_name',\n",
    "             'location',\n",
    "             'followers_count',\n",
    "             'statuses_count',\n",
    "             'description',\n",
    "             'friends_count',\n",
    "             'favourites_count',\n",
    "              'id',\n",
    "             'name',             \n",
    "             'verified']\n",
    "\n",
    "for t in colect.find():\n",
    "    tr = [t[c] for c in cols_tweet] + [t['user']['name'], t['user']['id']]\n",
    "    tr.append(t['retweeted_status']['id'] if t['retweeted'] else t['id'])\n",
    "    tweets.append(tr)\n",
    "    uid = t['user']['id'] \n",
    "    if uid not in users:\n",
    "        users[uid] = [t['user'][c] for c in cols_user]\n",
    "print('Proceso realizado con éxito')"
   ]
  },
  {
   "cell_type": "code",
   "execution_count": 59,
   "metadata": {
    "collapsed": false,
    "jupyter": {
     "outputs_hidden": false
    }
   },
   "outputs": [],
   "source": [
    "tweets = pd.DataFrame(tweets, columns=cols_tweet + ['user_name', 'user_id', 'original_id'])"
   ]
  },
  {
   "cell_type": "code",
   "execution_count": 60,
   "metadata": {
    "collapsed": false,
    "jupyter": {
     "outputs_hidden": false
    }
   },
   "outputs": [],
   "source": [
    "users = pd.DataFrame(users.values(), columns=cols_user)"
   ]
  },
  {
   "cell_type": "code",
   "execution_count": 83,
   "metadata": {},
   "outputs": [],
   "source": [
    "africa = pd.concat([tweets,users], axis=1)"
   ]
  },
  {
   "cell_type": "code",
   "execution_count": 54,
   "metadata": {
    "collapsed": false,
    "jupyter": {
     "outputs_hidden": false
    }
   },
   "outputs": [
    {
     "data": {
      "text/html": [
       "<div>\n",
       "<style scoped>\n",
       "    .dataframe tbody tr th:only-of-type {\n",
       "        vertical-align: middle;\n",
       "    }\n",
       "\n",
       "    .dataframe tbody tr th {\n",
       "        vertical-align: top;\n",
       "    }\n",
       "\n",
       "    .dataframe thead th {\n",
       "        text-align: right;\n",
       "    }\n",
       "</style>\n",
       "<table border=\"1\" class=\"dataframe\">\n",
       "  <thead>\n",
       "    <tr style=\"text-align: right;\">\n",
       "      <th></th>\n",
       "      <th>screen_name</th>\n",
       "      <th>location</th>\n",
       "      <th>followers_count</th>\n",
       "      <th>statuses_count</th>\n",
       "      <th>description</th>\n",
       "      <th>friends_count</th>\n",
       "      <th>favourites_count</th>\n",
       "      <th>created_at</th>\n",
       "      <th>id</th>\n",
       "      <th>name</th>\n",
       "      <th>verified</th>\n",
       "    </tr>\n",
       "  </thead>\n",
       "  <tbody>\n",
       "    <tr>\n",
       "      <th>0</th>\n",
       "      <td>CCirvera</td>\n",
       "      <td>Santiago</td>\n",
       "      <td>994</td>\n",
       "      <td>4631</td>\n",
       "      <td>Orgulloso de ser Chileno, Patriota, #Chilelibr...</td>\n",
       "      <td>1404</td>\n",
       "      <td>13662</td>\n",
       "      <td>Wed May 29 02:38:43 +0000 2013</td>\n",
       "      <td>1466235415</td>\n",
       "      <td>Cristian Rodríguez</td>\n",
       "      <td>False</td>\n",
       "    </tr>\n",
       "    <tr>\n",
       "      <th>1</th>\n",
       "      <td>Resiliencia_51</td>\n",
       "      <td>South América</td>\n",
       "      <td>4046</td>\n",
       "      <td>12033</td>\n",
       "      <td>Yo brindo mi apoyo irrestricto e incondicional...</td>\n",
       "      <td>4159</td>\n",
       "      <td>10814</td>\n",
       "      <td>Tue Oct 06 20:20:57 +0000 2020</td>\n",
       "      <td>1313574204781088771</td>\n",
       "      <td>@paladino_1971</td>\n",
       "      <td>False</td>\n",
       "    </tr>\n",
       "    <tr>\n",
       "      <th>2</th>\n",
       "      <td>la_teacher2019</td>\n",
       "      <td>None</td>\n",
       "      <td>312</td>\n",
       "      <td>81942</td>\n",
       "      <td>http://Desp.de Aviones.Estud.Pedagogia.Medicin...</td>\n",
       "      <td>98</td>\n",
       "      <td>134858</td>\n",
       "      <td>Mon Mar 14 20:04:15 +0000 2011</td>\n",
       "      <td>266174763</td>\n",
       "      <td>Yone</td>\n",
       "      <td>False</td>\n",
       "    </tr>\n",
       "    <tr>\n",
       "      <th>3</th>\n",
       "      <td>St_Mastermind</td>\n",
       "      <td>En algún lugar de un gran país</td>\n",
       "      <td>253</td>\n",
       "      <td>47582</td>\n",
       "      <td>Be a king? Think not, why be a king when you c...</td>\n",
       "      <td>1544</td>\n",
       "      <td>62761</td>\n",
       "      <td>Sat Aug 24 22:08:46 +0000 2013</td>\n",
       "      <td>1697564041</td>\n",
       "      <td>Master</td>\n",
       "      <td>False</td>\n",
       "    </tr>\n",
       "    <tr>\n",
       "      <th>4</th>\n",
       "      <td>Mariana_SN97</td>\n",
       "      <td>Bogota, Colombia</td>\n",
       "      <td>44</td>\n",
       "      <td>159</td>\n",
       "      <td>Comunicación Social y Periodismo PUJ</td>\n",
       "      <td>637</td>\n",
       "      <td>901</td>\n",
       "      <td>Sat Aug 06 19:00:39 +0000 2011</td>\n",
       "      <td>349815416</td>\n",
       "      <td>Mariana Saldarriaga</td>\n",
       "      <td>False</td>\n",
       "    </tr>\n",
       "  </tbody>\n",
       "</table>\n",
       "</div>"
      ],
      "text/plain": [
       "      screen_name                        location  followers_count  \\\n",
       "0        CCirvera                        Santiago              994   \n",
       "1  Resiliencia_51                   South América             4046   \n",
       "2  la_teacher2019                            None              312   \n",
       "3   St_Mastermind  En algún lugar de un gran país              253   \n",
       "4    Mariana_SN97                Bogota, Colombia               44   \n",
       "\n",
       "   statuses_count                                        description  \\\n",
       "0            4631  Orgulloso de ser Chileno, Patriota, #Chilelibr...   \n",
       "1           12033  Yo brindo mi apoyo irrestricto e incondicional...   \n",
       "2           81942  http://Desp.de Aviones.Estud.Pedagogia.Medicin...   \n",
       "3           47582  Be a king? Think not, why be a king when you c...   \n",
       "4             159               Comunicación Social y Periodismo PUJ   \n",
       "\n",
       "   friends_count  favourites_count                      created_at  \\\n",
       "0           1404             13662  Wed May 29 02:38:43 +0000 2013   \n",
       "1           4159             10814  Tue Oct 06 20:20:57 +0000 2020   \n",
       "2             98            134858  Mon Mar 14 20:04:15 +0000 2011   \n",
       "3           1544             62761  Sat Aug 24 22:08:46 +0000 2013   \n",
       "4            637               901  Sat Aug 06 19:00:39 +0000 2011   \n",
       "\n",
       "                    id                 name  verified  \n",
       "0           1466235415   Cristian Rodríguez     False  \n",
       "1  1313574204781088771       @paladino_1971     False  \n",
       "2            266174763                 Yone     False  \n",
       "3           1697564041               Master     False  \n",
       "4            349815416  Mariana Saldarriaga     False  "
      ]
     },
     "execution_count": 54,
     "metadata": {},
     "output_type": "execute_result"
    }
   ],
   "source": [
    "#datos visuales\n",
    "users.head(5)"
   ]
  },
  {
   "cell_type": "code",
   "execution_count": 65,
   "metadata": {},
   "outputs": [
    {
     "data": {
      "text/plain": [
       "Index(['id', 'created_at', 'favorite_count', 'retweet_count', 'text', 'place',\n",
       "       'favorited', 'retweeted', 'user_name', 'user_id', 'original_id'],\n",
       "      dtype='object')"
      ]
     },
     "execution_count": 65,
     "metadata": {},
     "output_type": "execute_result"
    }
   ],
   "source": [
    "tweets.columns"
   ]
  },
  {
   "cell_type": "code",
   "execution_count": 66,
   "metadata": {},
   "outputs": [],
   "source": [
    "tweets.columns  = ['id', 'created_at', 'favorite_count', 'retweet_count', 'text', 'place',\n",
    "       'favorited', 'retweeted', 'user_name', 'id', 'original_id']"
   ]
  },
  {
   "cell_type": "code",
   "execution_count": 67,
   "metadata": {},
   "outputs": [
    {
     "data": {
      "text/html": [
       "<div>\n",
       "<style scoped>\n",
       "    .dataframe tbody tr th:only-of-type {\n",
       "        vertical-align: middle;\n",
       "    }\n",
       "\n",
       "    .dataframe tbody tr th {\n",
       "        vertical-align: top;\n",
       "    }\n",
       "\n",
       "    .dataframe thead th {\n",
       "        text-align: right;\n",
       "    }\n",
       "</style>\n",
       "<table border=\"1\" class=\"dataframe\">\n",
       "  <thead>\n",
       "    <tr style=\"text-align: right;\">\n",
       "      <th></th>\n",
       "      <th>id</th>\n",
       "      <th>created_at</th>\n",
       "      <th>favorite_count</th>\n",
       "      <th>retweet_count</th>\n",
       "      <th>text</th>\n",
       "      <th>place</th>\n",
       "      <th>favorited</th>\n",
       "      <th>retweeted</th>\n",
       "      <th>user_name</th>\n",
       "      <th>id</th>\n",
       "      <th>original_id</th>\n",
       "    </tr>\n",
       "  </thead>\n",
       "  <tbody>\n",
       "    <tr>\n",
       "      <th>0</th>\n",
       "      <td>1498036035590053889</td>\n",
       "      <td>Sun Feb 27 20:43:17 +0000 2022</td>\n",
       "      <td>0</td>\n",
       "      <td>0</td>\n",
       "      <td>RT @Jou_Kaiser: La ONU anda tan preocupada de ...</td>\n",
       "      <td>None</td>\n",
       "      <td>False</td>\n",
       "      <td>False</td>\n",
       "      <td>Cristian Rodríguez</td>\n",
       "      <td>1466235415</td>\n",
       "      <td>1498036035590053889</td>\n",
       "    </tr>\n",
       "    <tr>\n",
       "      <th>1</th>\n",
       "      <td>1498036036273901568</td>\n",
       "      <td>Sun Feb 27 20:43:17 +0000 2022</td>\n",
       "      <td>0</td>\n",
       "      <td>0</td>\n",
       "      <td>RT @Puntodequiebr15: A esta hora en Bogotá, se...</td>\n",
       "      <td>None</td>\n",
       "      <td>False</td>\n",
       "      <td>False</td>\n",
       "      <td>@paladino_1971</td>\n",
       "      <td>1313574204781088771</td>\n",
       "      <td>1498036036273901568</td>\n",
       "    </tr>\n",
       "    <tr>\n",
       "      <th>2</th>\n",
       "      <td>1498036044993904648</td>\n",
       "      <td>Sun Feb 27 20:43:19 +0000 2022</td>\n",
       "      <td>0</td>\n",
       "      <td>0</td>\n",
       "      <td>RT @Jou_Kaiser: La ONU anda tan preocupada de ...</td>\n",
       "      <td>None</td>\n",
       "      <td>False</td>\n",
       "      <td>False</td>\n",
       "      <td>Yone</td>\n",
       "      <td>266174763</td>\n",
       "      <td>1498036044993904648</td>\n",
       "    </tr>\n",
       "    <tr>\n",
       "      <th>3</th>\n",
       "      <td>1498036049376907269</td>\n",
       "      <td>Sun Feb 27 20:43:20 +0000 2022</td>\n",
       "      <td>0</td>\n",
       "      <td>0</td>\n",
       "      <td>RT @LaVaneMG: Y dizque médico cirujano.\\nQue d...</td>\n",
       "      <td>None</td>\n",
       "      <td>False</td>\n",
       "      <td>False</td>\n",
       "      <td>Master</td>\n",
       "      <td>1697564041</td>\n",
       "      <td>1498036049376907269</td>\n",
       "    </tr>\n",
       "    <tr>\n",
       "      <th>4</th>\n",
       "      <td>1498036055722926085</td>\n",
       "      <td>Sun Feb 27 20:43:22 +0000 2022</td>\n",
       "      <td>0</td>\n",
       "      <td>0</td>\n",
       "      <td>Me hacen falta un par de amigos provida para s...</td>\n",
       "      <td>None</td>\n",
       "      <td>False</td>\n",
       "      <td>False</td>\n",
       "      <td>Mariana Saldarriaga</td>\n",
       "      <td>349815416</td>\n",
       "      <td>1498036055722926085</td>\n",
       "    </tr>\n",
       "    <tr>\n",
       "      <th>...</th>\n",
       "      <td>...</td>\n",
       "      <td>...</td>\n",
       "      <td>...</td>\n",
       "      <td>...</td>\n",
       "      <td>...</td>\n",
       "      <td>...</td>\n",
       "      <td>...</td>\n",
       "      <td>...</td>\n",
       "      <td>...</td>\n",
       "      <td>...</td>\n",
       "      <td>...</td>\n",
       "    </tr>\n",
       "    <tr>\n",
       "      <th>10061</th>\n",
       "      <td>1498102978615652362</td>\n",
       "      <td>Mon Feb 28 01:09:18 +0000 2022</td>\n",
       "      <td>0</td>\n",
       "      <td>0</td>\n",
       "      <td>RT @PaolaHolguin: El pueblo colombiano está he...</td>\n",
       "      <td>None</td>\n",
       "      <td>False</td>\n",
       "      <td>False</td>\n",
       "      <td>Humberto Lopez Díaz</td>\n",
       "      <td>1467845475424423946</td>\n",
       "      <td>1498102978615652362</td>\n",
       "    </tr>\n",
       "    <tr>\n",
       "      <th>10062</th>\n",
       "      <td>1498102980398272519</td>\n",
       "      <td>Mon Feb 28 01:09:18 +0000 2022</td>\n",
       "      <td>0</td>\n",
       "      <td>0</td>\n",
       "      <td>RT @nikolas_dm: Imagina se toda mulher tivesse...</td>\n",
       "      <td>None</td>\n",
       "      <td>False</td>\n",
       "      <td>False</td>\n",
       "      <td>Rogério C Guimarães</td>\n",
       "      <td>912132396</td>\n",
       "      <td>1498102980398272519</td>\n",
       "    </tr>\n",
       "    <tr>\n",
       "      <th>10063</th>\n",
       "      <td>1498102989772443649</td>\n",
       "      <td>Mon Feb 28 01:09:20 +0000 2022</td>\n",
       "      <td>0</td>\n",
       "      <td>0</td>\n",
       "      <td>RT @ELTIEMPO: 🔴 #ColombiaVota2022 | Aydeé Liza...</td>\n",
       "      <td>None</td>\n",
       "      <td>False</td>\n",
       "      <td>False</td>\n",
       "      <td>Johanna Aguirre L.</td>\n",
       "      <td>2734171373</td>\n",
       "      <td>1498102989772443649</td>\n",
       "    </tr>\n",
       "    <tr>\n",
       "      <th>10064</th>\n",
       "      <td>1498102996168806404</td>\n",
       "      <td>Mon Feb 28 01:09:22 +0000 2022</td>\n",
       "      <td>0</td>\n",
       "      <td>0</td>\n",
       "      <td>RT @CienciaProvida: Si se despenaliza el abort...</td>\n",
       "      <td>None</td>\n",
       "      <td>False</td>\n",
       "      <td>False</td>\n",
       "      <td>La Moon</td>\n",
       "      <td>346067888</td>\n",
       "      <td>1498102996168806404</td>\n",
       "    </tr>\n",
       "    <tr>\n",
       "      <th>10065</th>\n",
       "      <td>1498103000614776835</td>\n",
       "      <td>Mon Feb 28 01:09:23 +0000 2022</td>\n",
       "      <td>0</td>\n",
       "      <td>0</td>\n",
       "      <td>@jpaltuzarra @SandraP39182503 @KIbarguen_M @ja...</td>\n",
       "      <td>None</td>\n",
       "      <td>False</td>\n",
       "      <td>False</td>\n",
       "      <td>Razón Vertical</td>\n",
       "      <td>1080246584527462401</td>\n",
       "      <td>1498103000614776835</td>\n",
       "    </tr>\n",
       "  </tbody>\n",
       "</table>\n",
       "<p>10066 rows × 11 columns</p>\n",
       "</div>"
      ],
      "text/plain": [
       "                        id                      created_at  favorite_count  \\\n",
       "0      1498036035590053889  Sun Feb 27 20:43:17 +0000 2022               0   \n",
       "1      1498036036273901568  Sun Feb 27 20:43:17 +0000 2022               0   \n",
       "2      1498036044993904648  Sun Feb 27 20:43:19 +0000 2022               0   \n",
       "3      1498036049376907269  Sun Feb 27 20:43:20 +0000 2022               0   \n",
       "4      1498036055722926085  Sun Feb 27 20:43:22 +0000 2022               0   \n",
       "...                    ...                             ...             ...   \n",
       "10061  1498102978615652362  Mon Feb 28 01:09:18 +0000 2022               0   \n",
       "10062  1498102980398272519  Mon Feb 28 01:09:18 +0000 2022               0   \n",
       "10063  1498102989772443649  Mon Feb 28 01:09:20 +0000 2022               0   \n",
       "10064  1498102996168806404  Mon Feb 28 01:09:22 +0000 2022               0   \n",
       "10065  1498103000614776835  Mon Feb 28 01:09:23 +0000 2022               0   \n",
       "\n",
       "       retweet_count                                               text place  \\\n",
       "0                  0  RT @Jou_Kaiser: La ONU anda tan preocupada de ...  None   \n",
       "1                  0  RT @Puntodequiebr15: A esta hora en Bogotá, se...  None   \n",
       "2                  0  RT @Jou_Kaiser: La ONU anda tan preocupada de ...  None   \n",
       "3                  0  RT @LaVaneMG: Y dizque médico cirujano.\\nQue d...  None   \n",
       "4                  0  Me hacen falta un par de amigos provida para s...  None   \n",
       "...              ...                                                ...   ...   \n",
       "10061              0  RT @PaolaHolguin: El pueblo colombiano está he...  None   \n",
       "10062              0  RT @nikolas_dm: Imagina se toda mulher tivesse...  None   \n",
       "10063              0  RT @ELTIEMPO: 🔴 #ColombiaVota2022 | Aydeé Liza...  None   \n",
       "10064              0  RT @CienciaProvida: Si se despenaliza el abort...  None   \n",
       "10065              0  @jpaltuzarra @SandraP39182503 @KIbarguen_M @ja...  None   \n",
       "\n",
       "       favorited  retweeted            user_name                   id  \\\n",
       "0          False      False   Cristian Rodríguez           1466235415   \n",
       "1          False      False       @paladino_1971  1313574204781088771   \n",
       "2          False      False                 Yone            266174763   \n",
       "3          False      False               Master           1697564041   \n",
       "4          False      False  Mariana Saldarriaga            349815416   \n",
       "...          ...        ...                  ...                  ...   \n",
       "10061      False      False  Humberto Lopez Díaz  1467845475424423946   \n",
       "10062      False      False  Rogério C Guimarães            912132396   \n",
       "10063      False      False   Johanna Aguirre L.           2734171373   \n",
       "10064      False      False              La Moon            346067888   \n",
       "10065      False      False       Razón Vertical  1080246584527462401   \n",
       "\n",
       "               original_id  \n",
       "0      1498036035590053889  \n",
       "1      1498036036273901568  \n",
       "2      1498036044993904648  \n",
       "3      1498036049376907269  \n",
       "4      1498036055722926085  \n",
       "...                    ...  \n",
       "10061  1498102978615652362  \n",
       "10062  1498102980398272519  \n",
       "10063  1498102989772443649  \n",
       "10064  1498102996168806404  \n",
       "10065  1498103000614776835  \n",
       "\n",
       "[10066 rows x 11 columns]"
      ]
     },
     "execution_count": 67,
     "metadata": {},
     "output_type": "execute_result"
    }
   ],
   "source": [
    "tweets"
   ]
  },
  {
   "cell_type": "code",
   "execution_count": 56,
   "metadata": {},
   "outputs": [],
   "source": [
    "users.to_csv('documents/users_pasto.csv', index=False, encoding='utf8')"
   ]
  },
  {
   "cell_type": "code",
   "execution_count": 57,
   "metadata": {
    "collapsed": false,
    "jupyter": {
     "outputs_hidden": false
    }
   },
   "outputs": [],
   "source": [
    "tweets.to_csv('documents/tweets_pasto.csv', index=False, encoding='utf8')"
   ]
  },
  {
   "cell_type": "code",
   "execution_count": 89,
   "metadata": {
    "tags": []
   },
   "outputs": [],
   "source": [
    "africa.to_csv('africa.csv', index=False, encoding='utf8')\n"
   ]
  },
  {
   "cell_type": "code",
   "execution_count": 71,
   "metadata": {},
   "outputs": [
    {
     "data": {
      "text/html": [
       "<div>\n",
       "<style scoped>\n",
       "    .dataframe tbody tr th:only-of-type {\n",
       "        vertical-align: middle;\n",
       "    }\n",
       "\n",
       "    .dataframe tbody tr th {\n",
       "        vertical-align: top;\n",
       "    }\n",
       "\n",
       "    .dataframe thead th {\n",
       "        text-align: right;\n",
       "    }\n",
       "</style>\n",
       "<table border=\"1\" class=\"dataframe\">\n",
       "  <thead>\n",
       "    <tr style=\"text-align: right;\">\n",
       "      <th></th>\n",
       "      <th>id</th>\n",
       "      <th>created_at_x</th>\n",
       "      <th>favorite_count</th>\n",
       "      <th>retweet_count</th>\n",
       "      <th>text</th>\n",
       "      <th>place</th>\n",
       "      <th>favorited</th>\n",
       "      <th>retweeted</th>\n",
       "      <th>user_name</th>\n",
       "      <th>user_id</th>\n",
       "      <th>...</th>\n",
       "      <th>screen_name</th>\n",
       "      <th>location</th>\n",
       "      <th>followers_count</th>\n",
       "      <th>statuses_count</th>\n",
       "      <th>description</th>\n",
       "      <th>friends_count</th>\n",
       "      <th>favourites_count</th>\n",
       "      <th>created_at_y</th>\n",
       "      <th>name</th>\n",
       "      <th>verified</th>\n",
       "    </tr>\n",
       "  </thead>\n",
       "  <tbody>\n",
       "  </tbody>\n",
       "</table>\n",
       "<p>0 rows × 21 columns</p>\n",
       "</div>"
      ],
      "text/plain": [
       "Empty DataFrame\n",
       "Columns: [id, created_at_x, favorite_count, retweet_count, text, place, favorited, retweeted, user_name, user_id, original_id, screen_name, location, followers_count, statuses_count, description, friends_count, favourites_count, created_at_y, name, verified]\n",
       "Index: []\n",
       "\n",
       "[0 rows x 21 columns]"
      ]
     },
     "execution_count": 71,
     "metadata": {},
     "output_type": "execute_result"
    }
   ],
   "source": [
    "output1"
   ]
  },
  {
   "cell_type": "code",
   "execution_count": null,
   "metadata": {},
   "outputs": [],
   "source": []
  }
 ],
 "metadata": {
  "colab": {
   "default_view": {},
   "name": "1.0-análisis-tweets-mongo.ipynb",
   "provenance": [],
   "version": "0.3.2",
   "views": {}
  },
  "kernelspec": {
   "display_name": "Python 3 (ipykernel)",
   "language": "python",
   "name": "python3"
  },
  "language_info": {
   "codemirror_mode": {
    "name": "ipython",
    "version": 3
   },
   "file_extension": ".py",
   "mimetype": "text/x-python",
   "name": "python",
   "nbconvert_exporter": "python",
   "pygments_lexer": "ipython3",
   "version": "3.9.7"
  }
 },
 "nbformat": 4,
 "nbformat_minor": 4
}
